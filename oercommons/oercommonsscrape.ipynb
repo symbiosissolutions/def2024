{
  "nbformat": 4,
  "nbformat_minor": 0,
  "metadata": {
    "colab": {
      "provenance": []
    },
    "kernelspec": {
      "name": "python3",
      "display_name": "Python 3"
    },
    "language_info": {
      "name": "python"
    }
  },
  "cells": [
    {
      "cell_type": "markdown",
      "source": [
        "# Scraping data from OERCOMMONS"
      ],
      "metadata": {
        "id": "9s6DG2rpVS93"
      }
    },
    {
      "cell_type": "code",
      "source": [
        "# Importing necessary libraries for scraping\n",
        "\n",
        "import requests\n",
        "from bs4 import BeautifulSoup\n",
        "from typing import Optional, List\n",
        "\n",
        "# Helper Functions for Scraping\n",
        "\n",
        "def get_element_text(element, index: int = 0, default: str = 'N/A') -> str:\n",
        "\n",
        "    try:\n",
        "        value = element.find_all('dd')[index].text.strip()\n",
        "        return value if value else default\n",
        "    except (AttributeError, IndexError):\n",
        "        return default\n",
        "\n",
        "def get_metadata_content(soup, meta_name: str, default: str = 'N/A') -> str:\n",
        "\n",
        "    try:\n",
        "        return soup.find('meta', {'itemprop': meta_name})['content'].strip()\n",
        "    except (AttributeError, TypeError):\n",
        "        return default\n",
        "\n",
        "# Function to Fetch Course Data\n",
        "\n",
        "def scrape_course_data(course, base_url: str) -> Optional[dict]:\n",
        "\n",
        "    try:\n",
        "        # Fetch course-specific information\n",
        "        title = course.find('div', class_='item-title').text.strip()\n",
        "        link = course.find('a', class_='item-link')['href']\n",
        "        author = get_element_text(course, index=0)\n",
        "        subject = get_element_text(course, index=1)\n",
        "        material_type = get_element_text(course, index=2)\n",
        "        description = course.find('div', class_='abstract').text.strip() if course.find('div', 'abstract') else 'N/A'\n",
        "\n",
        "        # Fetch the lesson URL and parse the details\n",
        "        lesson_url = base_url + link\n",
        "        response = requests.get(lesson_url)\n",
        "        response.raise_for_status()\n",
        "        lesson_soup = BeautifulSoup(response.text, 'html.parser')\n",
        "\n",
        "        keywords = get_metadata_content(lesson_soup, 'keywords')\n",
        "        date_created = get_metadata_content(lesson_soup, 'dateCreated')\n",
        "        resource_url = lesson_soup.find('a', {'id': 'goto'})['href'] if lesson_soup.find('a', {'id': 'goto'}) else 'N/A'\n",
        "\n",
        "        return {\n",
        "            \"title\": title,\n",
        "            \"author\": author,\n",
        "            \"subject\": subject,\n",
        "            \"material_type\": material_type,\n",
        "            \"description\": description,\n",
        "            \"keywords\": keywords,\n",
        "            \"date_created\": date_created,\n",
        "            \"resource_url\": resource_url\n",
        "        }\n",
        "    except Exception as e:\n",
        "        print(f\"Error processing course data: {e}\")\n",
        "        return None"
      ],
      "metadata": {
        "id": "9YIuARZ2VTOX"
      },
      "execution_count": 3,
      "outputs": []
    },
    {
      "cell_type": "markdown",
      "source": [
        "# Pydantic Validation and Data Handling"
      ],
      "metadata": {
        "id": "NoIxoGdWX2yo"
      }
    },
    {
      "cell_type": "code",
      "source": [
        "# Likewise, importing necesarry libraries for Pydantic work\n",
        "\n",
        "from pydantic import BaseModel, HttpUrl, TypeAdapter\n",
        "import json\n",
        "\n",
        "# Define Pydantic Model for Lessons\n",
        "\n",
        "class Lesson(BaseModel):\n",
        "\n",
        "    title: str\n",
        "    author: Optional[str]\n",
        "    subject: str\n",
        "    material_type: str\n",
        "    description: Optional[str]\n",
        "    keywords: Optional[str]\n",
        "    date_created: Optional[str]\n",
        "    resource_url: HttpUrl\n",
        "\n",
        "# Function to Scrape All Lessons\n",
        "\n",
        "def scrape_lessons(base_url: str, search_url: str) -> List[dict]:\n",
        "\n",
        "    try:\n",
        "        response = requests.get(search_url)\n",
        "        response.raise_for_status()\n",
        "    except requests.RequestException as e:\n",
        "        print(f\"Error fetching search URL: {e}\")\n",
        "        return []\n",
        "\n",
        "    soup = BeautifulSoup(response.text, 'html.parser')\n",
        "    courses = soup.find_all('article', class_='js-index-item')\n",
        "\n",
        "    lesson_data = []\n",
        "\n",
        "    for course in courses:\n",
        "        lesson = scrape_course_data(course, base_url)\n",
        "        if lesson:\n",
        "            lesson_data.append(lesson)\n",
        "\n",
        "    return lesson_data\n",
        "\n",
        "# Function to Save Data to JSON\n",
        "\n",
        "def save_data_to_json(data, file_name='lessons_sync.json'):\n",
        "\n",
        "    with open(file_name, 'w') as f:\n",
        "\n",
        "        # Convert HttpUrl fields to strings for serialization\n",
        "\n",
        "        json_compatible_data = [lesson.dict() for lesson in data]\n",
        "        for lesson in json_compatible_data:\n",
        "            lesson[\"resource_url\"] = str(lesson[\"resource_url\"])\n",
        "        json.dump(json_compatible_data, f, indent=4)\n",
        "    print(f\"Data saved to {file_name}\")"
      ],
      "metadata": {
        "id": "TkE2EBjeVePP"
      },
      "execution_count": 4,
      "outputs": []
    },
    {
      "cell_type": "markdown",
      "source": [
        "# Creating json file loading function"
      ],
      "metadata": {
        "id": "GEMTzsnCgIfK"
      }
    },
    {
      "cell_type": "code",
      "source": [
        "# Load JSON Data from File\n",
        "\n",
        "def load_json(file_name = 'lessons_sync.json'):\n",
        "\n",
        "    \"\"\"Load data from a JSON file.\"\"\"\n",
        "\n",
        "    try:\n",
        "        with open(file_name, 'r') as f:\n",
        "            data = json.load(f)\n",
        "        return data\n",
        "    except FileNotFoundError:\n",
        "        print(f\"File '{file_name}' not found.\")\n",
        "        return None\n",
        "    except json.JSONDecodeError:\n",
        "        print(f\"Error decoding JSON from file '{file_name}'.\")\n",
        "        return None\n"
      ],
      "metadata": {
        "id": "qNQI6Ksmb90G"
      },
      "execution_count": 10,
      "outputs": []
    },
    {
      "cell_type": "markdown",
      "source": [
        "# The function that brings it all together; the main ETL function"
      ],
      "metadata": {
        "id": "aKPec1EfgNfJ"
      }
    },
    {
      "cell_type": "code",
      "source": [
        "# Main ETL Function\n",
        "\n",
        "def run_etl():\n",
        "\n",
        "    base_url = 'https://oercommons.org'\n",
        "    search_url = 'https://oercommons.org/search?batch_size=20&sort_by=visits&view_mode=summary&f.general_subject=english-language-arts&f.sublevel=lower-primary'\n",
        "\n",
        "    # Extracting lessons\n",
        "\n",
        "    print(\"Scraping lessons...\")\n",
        "    raw_lessons = scrape_lessons(base_url, search_url)\n",
        "\n",
        "    # Validating data using Pydantic\n",
        "\n",
        "    print(\"Validating scraped data with Pydantic...\")\n",
        "    try:\n",
        "        type_adapter = TypeAdapter(List[Lesson])\n",
        "        lessons = type_adapter.validate_python(raw_lessons)\n",
        "    except Exception as e:\n",
        "        print(f\"Validation error: {e}\")\n",
        "        lessons = []\n",
        "\n",
        "    # Saving data to JSON\n",
        "\n",
        "    print(\"Saving data to JSON...\")\n",
        "    save_data_to_json(lessons)\n",
        "\n",
        "# Execute the ETL process\n",
        "\n",
        "run_etl()"
      ],
      "metadata": {
        "colab": {
          "base_uri": "https://localhost:8080/"
        },
        "id": "bi5x1MZfdvxC",
        "outputId": "9f7b79d6-cb56-4ee3-bf86-2f701526de44"
      },
      "execution_count": 9,
      "outputs": [
        {
          "output_type": "stream",
          "name": "stdout",
          "text": [
            "Scraping lessons...\n",
            "Validating scraped data with Pydantic...\n",
            "Saving data to JSON...\n",
            "Data saved to lessons_sync.json\n"
          ]
        }
      ]
    },
    {
      "cell_type": "code",
      "source": [
        "# Loading the data from file after validation\n",
        "\n",
        "lessons_data = load_json()\n",
        "\n",
        "if lessons_data:\n",
        "\n",
        "    print(\"Loaded lessons data:\")\n",
        "    print(lessons_data)\n"
      ],
      "metadata": {
        "colab": {
          "base_uri": "https://localhost:8080/"
        },
        "id": "4cYjdgAoejc_",
        "outputId": "bc53fe58-3979-4441-da85-8d16d851b6a9"
      },
      "execution_count": 11,
      "outputs": [
        {
          "output_type": "stream",
          "name": "stdout",
          "text": [
            "Loaded lessons data:\n",
            "[{'title': '1st Grade \"OR\", \"OAR\", \"ORE\" Spelling Patterns', 'author': 'English Language Arts', 'subject': 'Lesson Plan', 'material_type': 'Molly Simpson', 'description': 'This Lesson Plan was created by Molly Simpson.\\xa0The attached Lesson Plan is …\\n                  \\n\\n\\nThis Lesson Plan was created by Molly Simpson.\\xa0The attached Lesson Plan is designed for Grade 1\\xa0English Language Arts students. Students will be able to understand and spell the words using their knowledge of the various spellings of the same sound: \"oar, \"or\", and \"ore\". This Lesson Plan can be used with small group instruction or with\\xa0a whole class. This lesson plan adresses the following NDE Standards: .\\xa0It is expected that this Lesson Plan will take students 20 to 80\\xa0minutes to complete depending on the use of small group or large group instruction.\\n\\n\\nMore\\nLess', 'keywords': 'NE ELA', 'date_created': '2020-07-30T17:24:29.680357', 'resource_url': 'https://oercommons.org/courseware/lesson/70648/overview'}, {'title': 'Word Lists by Syllable Type (Orton-Gillingham)', 'author': 'English Language Arts', 'subject': 'Teaching/Learning Strategy', 'material_type': '03/10/2018', 'description': 'Phonics word lists: introduction and lists of closed syllable words with different …\\n                  \\n\\n\\nPhonics word lists:  introduction and lists of closed syllable words with different vowels and patterns.\\n\\n\\nMore\\nLess', 'keywords': 'Closed Syllables, Orton-gillingham, Dyslexia, Phonics, BranchEd, BranchED Literacy, Syllable', 'date_created': '2018-03-10T11:05:10.058386', 'resource_url': 'https://oercommons.org/authoring/27442-word-lists-by-syllable-type-orton-gillingham/view'}, {'title': 'People of the Whale', 'author': 'Education', 'subject': 'English Language Arts', 'material_type': 'Geoscience', 'description': \"This article describes how the lifestyle of Alaska's Inupiat people have changed …\\n                  \\n\\n\\nThis article describes how the lifestyle of Alaska's Inupiat people have changed over time, and the new challenges they now face as a result of a changing climate. Versions are available for students in grades K-1, 2-3 and 4-5. Related science and literacy activities are included.\\n\\n\\nMore\\nLess\", 'keywords': 'Literacy, Bowhead Whale, Reading, Elementary Climate, Geoscience, Social Sciences, People of the Whale, Nonfiction, Hunting, Inupiat, Teachers, Elementary-climate-science, Informational Text, elementary-climate-hist, Elementary, Climate Change, NSDL, Arctic, Students', 'date_created': '2010-06-01', 'resource_url': 'https://beyondpenguins.ehe.osu.edu/issue/climate-change-and-the-polar-regions/people-of-the-whale'}, {'title': '25 Things', 'author': 'Applied Science', 'subject': 'Arts and Humanities', 'material_type': 'Business and Communication', 'description': 'This lesson will allow students to select and share what details are …\\n                  \\n\\n\\nThis lesson will allow students to select and share what details are important on a topic.\\xa0 Groups of students will research a topic and then discuss and determine the top 25 important things someone should know about the topic.\\n\\n\\nMore\\nLess', 'keywords': 'POWER Library, Iowa K-12 E-Curriculum, Powerlibrary', 'date_created': '2020-07-07T11:35:51.793969', 'resource_url': 'https://oercommons.org/courseware/lesson/69439/overview'}, {'title': 'My Family: Past, Present and Future', 'author': 'English Language Arts', 'subject': 'Mathematics', 'material_type': 'Social Science', 'description': 'Students in grade two explore the lives of actual people who make …\\n                  \\n\\n\\nStudents in grade two explore the lives of actual people who make a difference in their everyday lives. They differentiate between events that happened long ago and events that happened yesterday by studying their family histories. A number of projects are completed that preserve the past, capture the present, or impact the future, including analyzing information and drawing conclusions about how and why the world has changed. The unit concludes with students creating family history time capsules that preserve the past and present for the future.\\nThis unit plan was originally developed by the Intel® Teach program as an exemplary unit plan demonstrating some of the best attributes of teaching with technology. \\n\\n\\nMore\\nLess', 'keywords': 'Analyzing Information, Intel Education, Ancestors, Analysis, Comparing Past and Present, ND FACS, Synthesis, Family History, Tracing History, Preservation, Drawing Conclusions, Time Capsule, Data Analysis', 'date_created': '2016-11-09T13:34:29.587758', 'resource_url': 'https://oercommons.org/authoring/18030-my-family-past-present-and-future/view'}, {'title': 'Literature Based STEM - Book List & Corresponding Activities', 'author': 'Applied Science', 'subject': 'Architecture and Design', 'material_type': 'Arts and Humanities', 'description': 'Literature Based STEM - Book List & Corresponding Activities: Looking for grab-and-go …\\n                  \\n\\n\\nLiterature Based STEM - Book List & Corresponding Activities:\\nLooking for grab-and-go elementary STEM lessons? Looking for a read-aloud to hook an existing STEM lesson? Trying to build a STEM library? Search the spreadsheet by titles, authors, big ideas, themes, and lessons. Whether you are a STEM specialist or a classroom teacher, these lessons will work for you.\\n\\n\\nMore\\nLess', 'keywords': 'Literacy, PASTEM, PASTEMTOOLKIT, Steam, Read Alouds, Engineering Design Proceses, STEM, Literacy Activities, Growth Mindset', 'date_created': '2018-12-05T11:35:56.112423', 'resource_url': 'https://oercommons.org/authoring/50524-literature-based-stem-book-list-corresponding-acti/view'}, {'title': '1st Grade-Act. 05: Chrysanthemum Sound Boards', 'author': 'Arts and Humanities', 'subject': 'English Language Arts', 'material_type': 'Speaking and Listening', 'description': 'In this lesson students will listen and match sounds ... either rhyming …\\n                  \\n\\n\\nIn this lesson students will listen and match sounds ... either rhyming sounds, beginning sounds, ending sounds or vowel sounds.\\n\\n\\nMore\\nLess', 'keywords': 'Word Sounds, OERC Reviewed K-12 Collections, Speaking and Listening, Language Arts -- Reading', 'date_created': '2013-10-22', 'resource_url': 'https://www.uen.org/lessonplan/view/5638'}, {'title': '1st Grade-Act. 07: Seven Fat Cats', 'author': 'Arts and Humanities', 'subject': 'English Language Arts', 'material_type': 'Speaking and Listening', 'description': 'While reading the story \"Seven Fat Cats\", students will listen and match …\\n                  \\n\\n\\nWhile reading the story \"Seven Fat Cats\", students will listen and match the sounds (rhyming, beginning, ending, and vowel.)\\n\\n\\nMore\\nLess', 'keywords': 'OERC Reviewed K-12 Collections, Word Sounds, Speaking and Listening, Language Arts -- Reading', 'date_created': '2013-10-22', 'resource_url': 'https://www.uen.org/lessonplan/view/5640'}, {'title': 'Editing and Revision with Acronyms', 'author': 'English Language Arts', 'subject': 'Teaching/Learning Strategy', 'material_type': '06/27/2017', 'description': 'This is a compilation of engaging Educational YouTube Videos. The videos have …\\n                  \\n\\n\\nThis is a compilation of engaging Educational YouTube Videos. The videos have been selected from a number of creative authors who share and instruct the techniques they use in regards to the revision and editing portion of the writing process. They have been placed together and arranged with the purpose of differentiating the instruction of students on a variety of levels within a regular or special education setting.\\n\\n\\nMore\\nLess', 'keywords': 'Revising, Editing, Iowa Video, Iowa K-12 E-Curriculum', 'date_created': '2017-06-27T19:20:50.347483', 'resource_url': 'https://oercommons.org/authoring/22768-editing-and-revision-with-acronyms/view'}, {'title': 'Reading in the Time of COVID-19: Free access to online reading', 'author': 'Early Childhood Development', 'subject': 'English Language Arts', 'material_type': 'Reading', 'description': 'Free reading options for all Pre K - 12 students. Sites include …\\n                  \\n\\n\\nFree reading options for all Pre K - 12 students. Sites include access for English learners as well as students with reading barriers. Opportunities are highlighted for online reading, downloadable eBooks, audiobooks, apps to read content on smartphones/tablets, and read aloud stories for our youngest learners.\\n\\n\\nMore\\nLess', 'keywords': 'Wa-Students-Working-Independently, wa-students-with-disabilities, Washington Office of Superintendent of Public Instruction, wa-families, wa-ela, OSPI, wa-early-learning', 'date_created': '2020-04-07T22:37:30.538067', 'resource_url': 'https://oercommons.org/courseware/lesson/65002/overview'}, {'title': '3-2-1- Grade 3', 'author': 'English Language Arts', 'subject': 'History', 'material_type': 'Life Science', 'description': 'This tool is used for teachers to understand what the students are …\\n                  \\n\\n\\nThis tool is used for teachers to understand what the students are getting out of their learning by recording three things they learned, two questions and one main idea.\\n\\n\\nMore\\nLess', 'keywords': 'Assessment', 'date_created': '2019-06-19T08:36:56.270939', 'resource_url': 'https://oercommons.org/courseware/lesson/55505/overview'}, {'title': '2nd Grade-Act. 01: Exploration Tubs', 'author': 'Arts and Humanities', 'subject': 'Education', 'material_type': 'English Language Arts', 'description': 'The focus of this lesson is to provide an opportunity for children …\\n                  \\n\\n\\nThe focus of this lesson is to provide an opportunity for children to develop oral language skills and to record their oral language to share with others.\\n\\n\\nMore\\nLess', 'keywords': 'Fossils, Animals, Earth Sciences, ESL, OERC Reviewed K-12 Collections, Flexible Learning, Reading Comprehension, Vocabulary', 'date_created': '2013-10-22', 'resource_url': 'https://www.uen.org/lessonplan/view/5690'}, {'title': 'A-Z letter review', 'author': 'English Language Arts', 'subject': 'Homework/Assignment', 'material_type': '05/27/2016', 'description': 'This packet includes letter formation and beginning sound practice. The pictures are …\\n                  \\n\\n\\nThis packet includes letter formation and beginning sound practice.  The pictures are easy to understand and common words used in the English language.\\n\\n\\nMore\\nLess', 'keywords': 'Alphabet, Letter Formation, Beginning Sounds, ABC', 'date_created': '2016-05-27T11:00:09.550966', 'resource_url': 'https://oercommons.org/authoring/13895-a-z-letter-review/view'}, {'title': 'Learning Guide for \"We Move Together\" by Kelly Fritsch, Anne McGuire and Eduardo Trejos', 'author': 'Elementary Education', 'subject': 'English Language Arts', 'material_type': 'Literature', 'description': 'This learning guide offers educators context, vocabulary, discussion questions, learning activities, printable …\\n                  \\n\\n\\n\\xa0This learning guide offers educators context, vocabulary, discussion questions, learning activities, printable games and templates, and other resources to support conversations about disability, accessibility, social justice, and community building.\\xa0We Move Together\\xa0is a bold and colourful exploration of all the ways that people navigate through the spaces around them and a celebration of the relationships we build along the way.\\xa0We Move Together\\xa0follows a mixed-ability group of kids as they creatively negotiate everyday barriers and find joy and connection in disability culture and community.\\xa0\\n\\n\\nMore\\nLess', 'keywords': \"Accessibility, disability justice, disability, social justice, Disability Justice, Access, Disability, accessibility, Social Justice, children's literature\", 'date_created': '2021-06-14T01:37:12.190923', 'resource_url': 'https://oercommons.org/courseware/lesson/82353/overview'}, {'title': 'Story Map', 'author': 'English Language Arts', 'subject': 'Activity/Lab', 'material_type': 'Interactive', 'description': 'The Story Map interactive is designed to assist students in prewriting and …\\n                  \\n\\n\\nThe Story Map interactive is designed to assist students in prewriting and postreading activities by focusing on the key elements of character, setting, conflict, and resolution.\\n\\n\\nMore\\nLess', 'keywords': 'SPED, ELA, English Language Learners, Requires Flash, Writing - Fiction, Humanities, ISTE Creativity and Innovation 1C, ISTE Creativity and Innovation 1A, English Language Arts, Arts, Language Arts -- Reading, ISTE Creativity and Innovation 1D, ISTE Technology Operations and Concepts 6A, Reading and Writing, ELL, ISTE Research and Information Fluency 3C, Writing - Organizing and Summarizing', 'date_created': '2013-08-19', 'resource_url': 'https://www.readwritethink.org/classroom-resources/student-interactives/story'}, {'title': 'Citizenship PBL For 1st-2nd Grade', 'author': 'English Language Arts', 'subject': 'Social Science', 'material_type': 'Lesson Plan', 'description': 'A Project Based Learning Outline for Citizenship and Martin Luther King Jr. …\\n                  \\n\\n\\nA Project Based Learning Outline for Citizenship and Martin Luther King Jr. Day. To be used with 1st or 2nd Grade, as fitted with standards.\\n\\n\\nMore\\nLess', 'keywords': 'Second Grade, Citizenship, First Grade, PBL', 'date_created': '2016-10-10T11:12:59.504401', 'resource_url': 'https://oercommons.org/authoring/16778-citizenship-pbl-for-1st-2nd-grade/view'}, {'title': '3C Word Wall', 'author': 'Education', 'subject': 'Elementary Education', 'material_type': 'English Language Arts', 'description': 'Cover Sheet Teacher Example\\n                  \\n\\n\\nCover SheetTeacher Example\\n\\n\\nMore\\nLess', 'keywords': 'Vocabulary, Word Wall, Interactive', 'date_created': '2019-07-06T19:52:59.419864', 'resource_url': 'https://oercommons.org/authoring/55614-3c-word-wall/view'}, {'title': 'Fairy Tale Engineering with Simple Machines', 'author': 'Applied Science', 'subject': 'Education', 'material_type': 'Elementary Education', 'description': 'In this unit, students will use the engineering design process and their …\\n                  \\n\\n\\nIn this unit, students will use the engineering design process and their understanding of how simple machines work to help fairytale characters solve problems. Each lesson focuses on one fairytale and one simple machine.\\n\\n\\nMore\\nLess', 'keywords': 'PASTEM, PASTEMTOOLKIT, Literacy-Based Units, Engineering Design Process, Read Alouds, Read, Steam, Read Aloud, Fairytales, STEM, Literacy Activities', 'date_created': '2018-12-05T13:06:16.806591', 'resource_url': 'https://oercommons.org/authoring/50589-fairy-tale-engineering-with-simple-machines/view'}, {'title': 'English Language Arts Core Instructional Materials Options', 'author': 'English Language Arts', 'subject': 'Full Course', 'material_type': 'Lesson', 'description': 'These are full-course openly licensed resources for districts interested in exploring OER …\\n                  \\n\\n\\nThese are full-course openly licensed resources for districts interested in exploring OER options when considering core instructional materials for district adoption. Course materials are available for online viewing or download.\\n\\n\\nMore\\nLess', 'keywords': 'Washington Office of Superintendent of Public Instruction, Wa-curricular-resources-for-educators, Common Core State Standards English Language Arts, OSPI, Instructional Materials Adoption, CCSS, wa-ela, Common Core', 'date_created': '2020-03-18T00:08:04.426722', 'resource_url': 'https://oercommons.org/courseware/lesson/64119/overview'}, {'title': 'Comprehension Activities', 'author': 'English Language Arts', 'subject': 'Activity/Lab', 'material_type': 'Lesson Plan', 'description': 'FreeReading is an open source instructional program that helps educators teach early …\\n                  \\n\\n\\nFreeReading is an open source instructional program that helps educators teach early literacy. Because it is open source, it represents the collective wisdom of a wide community of teachers and researchers. FreeReading contains Comprehension Activities, a page of activities to address important comprehension skills and strategies.\\n\\n\\nMore\\nLess', 'keywords': 'Language and Literature, Minnesota Catalog, Comprehension, Early Literacy, English, Referring to Text, Reading, MnLC, Cunha ELL, Using Text Vocabulary, Describing Structure of Text, Ask / Answer Questions of Text, Speaking About a Text', 'date_created': '2011-02-16', 'resource_url': 'https://www.freereading.net/wiki/Comprehension_Activities.html'}]\n"
          ]
        }
      ]
    },
    {
      "cell_type": "code",
      "source": [],
      "metadata": {
        "id": "meLTMq7af2-H"
      },
      "execution_count": null,
      "outputs": []
    }
  ]
}