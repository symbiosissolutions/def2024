{
  "cells": [
    {
      "cell_type": "markdown",
      "metadata": {
        "id": "Hx2Ftz_RTnMA"
      },
      "source": [
        "# 1. Introduction to Pydantic\n",
        "Pydantic is a powerful library that allows for data parsing and validation using Python type hints. It ensures that your data is structured, validated, and converted as needed, making it essential for projects that handle data input/output.\n",
        "\n",
        "## Why Use Pydantic?\n",
        "Provides data validation with minimal effort.\n",
        "Leverages Python's type hints for better code clarity.\n",
        "Automatically handles type conversion.\n",
        "Offers customizable constraints on fields."
      ]
    },
    {
      "cell_type": "markdown",
      "metadata": {
        "id": "EOrh6qGqTure"
      },
      "source": [
        "# 2. Installing Pydantic\n",
        "To begin, install Pydantic using pip:"
      ]
    },
    {
      "cell_type": "code",
      "execution_count": null,
      "metadata": {
        "id": "Xgam-HGKPFjt",
        "outputId": "0064c595-cd27-49be-c122-9a9859a19223"
      },
      "outputs": [
        {
          "name": "stdout",
          "output_type": "stream",
          "text": [
            "Defaulting to user installation because normal site-packages is not writeable\n",
            "Requirement already satisfied: pydantic in /home/deejung/.local/lib/python3.10/site-packages (2.7.4)\n",
            "Requirement already satisfied: typing-extensions>=4.6.1 in /home/deejung/.local/lib/python3.10/site-packages (from pydantic) (4.12.2)\n",
            "Requirement already satisfied: annotated-types>=0.4.0 in /home/deejung/.local/lib/python3.10/site-packages (from pydantic) (0.6.0)\n",
            "Requirement already satisfied: pydantic-core==2.18.4 in /home/deejung/.local/lib/python3.10/site-packages (from pydantic) (2.18.4)\n",
            "Note: you may need to restart the kernel to use updated packages.\n"
          ]
        }
      ],
      "source": [
        "%pip install pydantic\n",
        "\n",
        "# pip install pydantic[email]"
      ]
    },
    {
      "cell_type": "markdown",
      "metadata": {
        "id": "p0fYmTb8PFjv"
      },
      "source": [
        "Without Type hinting:"
      ]
    },
    {
      "cell_type": "code",
      "execution_count": null,
      "metadata": {
        "id": "7oQeJ4GuPFjw",
        "outputId": "4cd44180-83ff-4fe8-f1ee-537e443c67b8"
      },
      "outputs": [
        {
          "name": "stdout",
          "output_type": "stream",
          "text": [
            "John Doe\n"
          ]
        }
      ],
      "source": [
        "def get_full_name(first_name, last_name):\n",
        "    full_name = first_name.title() + \" \" + last_name.title()\n",
        "    return full_name\n",
        "\n",
        "\n",
        "print(get_full_name(\"john\", \"doe\"))"
      ]
    },
    {
      "cell_type": "markdown",
      "metadata": {
        "id": "rmS2g573PFjw"
      },
      "source": [
        "With Type hinting:"
      ]
    },
    {
      "cell_type": "code",
      "execution_count": null,
      "metadata": {
        "id": "0b3w71R7PFjx",
        "outputId": "771c4ff8-117e-48d9-e8ae-122a6da54d64"
      },
      "outputs": [
        {
          "name": "stdout",
          "output_type": "stream",
          "text": [
            "John Doe\n"
          ]
        }
      ],
      "source": [
        "def get_full_name(first_name: str, last_name: str) -> str:\n",
        "    full_name = first_name.title() + \" \" + last_name.title()\n",
        "    return full_name\n",
        "\n",
        "\n",
        "print(get_full_name(\"john\", \"doe\"))\n"
      ]
    },
    {
      "cell_type": "markdown",
      "metadata": {
        "id": "YHNL5J_jT4Gf"
      },
      "source": [
        "# 3. Basic Data Validation Using Pydantic Models\n",
        "Pydantic models are similar to Python data classes, but they come with built-in validation and type conversion.\n",
        "\n",
        "Example: Basic Pydantic Model"
      ]
    },
    {
      "cell_type": "code",
      "execution_count": null,
      "metadata": {
        "id": "rY2ZmaaOPFjx"
      },
      "outputs": [],
      "source": [
        "from pydantic import BaseModel"
      ]
    },
    {
      "cell_type": "code",
      "execution_count": null,
      "metadata": {
        "id": "bahfAsc0PFjx"
      },
      "outputs": [],
      "source": [
        "class User(BaseModel):\n",
        "    id: int\n",
        "    name: str = 'Jane Doe'"
      ]
    },
    {
      "cell_type": "code",
      "execution_count": null,
      "metadata": {
        "id": "oxC1EkOIPFjx"
      },
      "outputs": [],
      "source": [
        "user = User(id='123')"
      ]
    },
    {
      "cell_type": "code",
      "execution_count": null,
      "metadata": {
        "id": "f8oGyq5sPFjy"
      },
      "outputs": [],
      "source": [
        "assert user.name == 'Jane Doe'\n",
        "assert user.id == 123\n",
        "assert isinstance(user.id, int)"
      ]
    },
    {
      "cell_type": "markdown",
      "metadata": {
        "id": "tXltBzF1T_X-"
      },
      "source": [
        "### Explanation:\n",
        "\n",
        "The BaseModel automatically validates and converts types.\n",
        "The field name has a default value 'Jane Doe'.\n",
        "The id field is validated to be an integer, even if a string is passed.\n"
      ]
    },
    {
      "cell_type": "markdown",
      "metadata": {
        "id": "5CnAk7-gPFjy"
      },
      "source": [
        "# 4. Nested Models and Lists\n",
        "You can also nest Pydantic models and work with lists of models.\n",
        "\n",
        "Example: Nested Models and Lists"
      ]
    },
    {
      "cell_type": "code",
      "execution_count": null,
      "metadata": {
        "id": "bBQFOcP-PFjy"
      },
      "outputs": [],
      "source": [
        "class Group(BaseModel):\n",
        "    id: int\n",
        "    members: list[User] = []\n"
      ]
    },
    {
      "cell_type": "code",
      "execution_count": null,
      "metadata": {
        "id": "_xYvo54dPFjz"
      },
      "outputs": [],
      "source": [
        "\n",
        "group = Group(id=123)"
      ]
    },
    {
      "cell_type": "code",
      "execution_count": null,
      "metadata": {
        "id": "vI7bIMatPFjz",
        "outputId": "03b208a7-062c-4939-b5b5-9cf9e7188018"
      },
      "outputs": [
        {
          "data": {
            "text/plain": [
              "[]"
            ]
          },
          "execution_count": 13,
          "metadata": {},
          "output_type": "execute_result"
        }
      ],
      "source": [
        "group.members"
      ]
    },
    {
      "cell_type": "code",
      "execution_count": null,
      "metadata": {
        "id": "seMszxAfPFjz"
      },
      "outputs": [],
      "source": [
        "group.members.append(user)"
      ]
    },
    {
      "cell_type": "code",
      "execution_count": null,
      "metadata": {
        "id": "4zuJRYucPFjz",
        "outputId": "1a77e3ba-12d8-4d46-a3f1-a5fcfa6b25ca"
      },
      "outputs": [
        {
          "data": {
            "text/plain": [
              "[User(id=123, name='Jane Doe')]"
            ]
          },
          "execution_count": 15,
          "metadata": {},
          "output_type": "execute_result"
        }
      ],
      "source": [
        "group.members"
      ]
    },
    {
      "cell_type": "markdown",
      "metadata": {
        "id": "J1JCYI3tUI8O"
      },
      "source": [
        "### Explanation:\n",
        "\n",
        "We define a Group model with a list of User objects.\n",
        "This allows for easy nesting and working with structured data."
      ]
    },
    {
      "cell_type": "markdown",
      "metadata": {
        "id": "PAbNPVQ5PFjz"
      },
      "source": [
        "# 5. Self-Referential Models\n",
        "Pydantic allows for self-referential models, where a model can reference itself.\n",
        "\n",
        "### Example: Users with Friends"
      ]
    },
    {
      "cell_type": "code",
      "execution_count": null,
      "metadata": {
        "id": "c6HcSSjvPFjz"
      },
      "outputs": [],
      "source": [
        "class User(BaseModel):\n",
        "    id: int\n",
        "    name: str = 'Jane Doe'\n",
        "    friends: list[User] = []"
      ]
    },
    {
      "cell_type": "code",
      "execution_count": null,
      "metadata": {
        "id": "_fCWrvn4PFjz"
      },
      "outputs": [],
      "source": [
        "monica = User(id=11, name='Monica')\n",
        "pheebe = User(id=12, name='Pheebe')"
      ]
    },
    {
      "cell_type": "code",
      "execution_count": null,
      "metadata": {
        "id": "CpIJaVI_PFj0"
      },
      "outputs": [],
      "source": [
        "monica.friends.append(pheebe)"
      ]
    },
    {
      "cell_type": "code",
      "execution_count": null,
      "metadata": {
        "id": "52oYHInZPFj0",
        "outputId": "0f100312-46a0-406b-e75c-9acb0ed4349c"
      },
      "outputs": [
        {
          "data": {
            "text/plain": [
              "[User(id=12, name='Pheebe', friends=[])]"
            ]
          },
          "execution_count": 23,
          "metadata": {},
          "output_type": "execute_result"
        }
      ],
      "source": [
        "monica.friends"
      ]
    },
    {
      "cell_type": "markdown",
      "metadata": {
        "id": "UJVQue9vUQq0"
      },
      "source": [
        "### Explanation:\n",
        "\n",
        "The friends field contains a list of User objects.\n",
        "This creates a self-referential structure, commonly used in social networks or tree-like data.\n"
      ]
    },
    {
      "cell_type": "markdown",
      "metadata": {
        "id": "MWJmDUPsPFj0"
      },
      "source": [
        "# 6. Using Field for Customization\n",
        "The Field function in Pydantic allows for advanced customization of model fields, such as default values, aliases, and constraints.\n",
        "\n",
        "### Example: Generating UUIDs with Field"
      ]
    },
    {
      "cell_type": "code",
      "execution_count": null,
      "metadata": {
        "id": "XjHi-i_SPFj0"
      },
      "outputs": [],
      "source": [
        "from uuid import uuid4\n",
        "\n",
        "from pydantic import BaseModel, Field\n",
        "\n",
        "class User(BaseModel):\n",
        "    id: str = Field(default_factory=lambda: uuid4().hex)\n",
        "    name: str = Field(default='John Doe', alias='username')"
      ]
    },
    {
      "cell_type": "code",
      "execution_count": null,
      "metadata": {
        "id": "UWzcjgOFPFj0"
      },
      "outputs": [],
      "source": [
        "user = User(username='johndoe')"
      ]
    },
    {
      "cell_type": "code",
      "execution_count": null,
      "metadata": {
        "id": "AmkyQ_uTPFj0",
        "outputId": "42cf2c92-4e70-45e2-9da2-b00e6ddd1c70"
      },
      "outputs": [
        {
          "data": {
            "text/plain": [
              "{'id': 'cd78f73129e24525b41f6358be48f400', 'username': 'johndoe'}"
            ]
          },
          "execution_count": 28,
          "metadata": {},
          "output_type": "execute_result"
        }
      ],
      "source": [
        "user.model_dump(by_alias=True)"
      ]
    },
    {
      "cell_type": "markdown",
      "metadata": {
        "id": "VRml_OtOPFj0"
      },
      "source": [
        "# 7. Defining Constraints on Numerical and String Fields\n",
        "Pydantic allows for adding constraints to fields using the Field function. This ensures that input data adheres to the rules specified.\n",
        "\n",
        "## 7.1 Numerical Constraints\n",
        "You can add constraints such as greater than (gt), less than (lt), or values divisible by a specific number."
      ]
    },
    {
      "cell_type": "code",
      "execution_count": null,
      "metadata": {
        "id": "a2A1nkT-PFj0"
      },
      "outputs": [],
      "source": [
        "class NumericalConstraints(BaseModel):\n",
        "    positive: int = Field(gt=0)\n",
        "    non_positive: int = Field(le=0)\n",
        "    even: int = Field(multiple_of=2)"
      ]
    },
    {
      "cell_type": "markdown",
      "metadata": {
        "id": "cvCj3C7zUmAk"
      },
      "source": [
        "### Explanation:\n",
        "\n",
        "gt=0 ensures that the number is positive.\n",
        "le=0 ensures that the number is non-positive.\n",
        "multiple_of=2 enforces that the number is even."
      ]
    },
    {
      "cell_type": "markdown",
      "metadata": {
        "id": "QaM6cxqPUiTO"
      },
      "source": [
        "## 7.2 String Constraints\n",
        "You can also set constraints for strings, such as minimum and maximum lengths or patterns using regular expressions."
      ]
    },
    {
      "cell_type": "code",
      "execution_count": null,
      "metadata": {
        "id": "8B3tL74-PFj1"
      },
      "outputs": [],
      "source": [
        "class StringConstraints(BaseModel):\n",
        "    short: str = Field(min_length=3)\n",
        "    long: str = Field(max_length=10)\n",
        "    regex: str = Field(pattern=r'^\\d*$')"
      ]
    },
    {
      "cell_type": "markdown",
      "metadata": {
        "id": "Igxlksl-Uqlk"
      },
      "source": [
        "### Explanation:\n",
        "\n",
        "min_length=3 enforces a minimum length.\n",
        "max_length=10 enforces a maximum length.\n",
        "pattern=r'^\\d*$' uses a regular expression to allow only digits.\n"
      ]
    },
    {
      "cell_type": "markdown",
      "metadata": {
        "id": "jz5UH4MOPFj1"
      },
      "source": [
        "# 8. Handling Validation Errors\n",
        "## Validating Employee Data\n",
        "In this section, we’ll expand on how to create an Employee model using Pydantic, which includes various field types such as UUIDs, Enums, and custom validators to ensure the data's validity."
      ]
    },
    {
      "cell_type": "code",
      "execution_count": null,
      "metadata": {
        "id": "QW3O-DTwPFj1"
      },
      "outputs": [],
      "source": [
        "from datetime import date, timedelta\n",
        "from uuid import UUID, uuid4\n",
        "from enum import Enum\n",
        "from pydantic import BaseModel, EmailStr, Field, field_validator"
      ]
    },
    {
      "cell_type": "markdown",
      "metadata": {
        "id": "O5kpieC0VQpS"
      },
      "source": [
        "### Key Features in this Example:\n",
        "* UUID for Unique Employee ID: Each employee is automatically assigned a unique identifier using uuid4.\n",
        "* Enum for Departments: We define the available departments using an Enum, which ensures only specific values can be assigned.\n",
        "* Email Validation: Ensures that only emails matching a specific domain (@example.com) are valid.\n",
        "* Date Validation: Custom validation to ensure that employees are at least 18 years old.\n",
        "* Salary Constraints: Ensures that the salary is a positive number.\n"
      ]
    },
    {
      "cell_type": "code",
      "execution_count": null,
      "metadata": {
        "id": "xxGO-lKkPFj1"
      },
      "outputs": [],
      "source": [
        "class Department(Enum):\n",
        "    HR = \"HR\"\n",
        "    SALES = \"SALES\"\n",
        "    IT = \"IT\"\n",
        "    ENGINEERING = \"ENGINEERING\"\n",
        "\n",
        "class Employee(BaseModel):\n",
        "    employee_id: UUID = Field(default_factory=uuid4, frozen=True)\n",
        "    name: str = Field(min_length=1, frozen=True)\n",
        "    email: EmailStr = Field(pattern=r\".+@example\\.com$\")\n",
        "    date_of_birth: date = Field(alias=\"birth_date\", repr=False, frozen=True)\n",
        "    salary: float = Field(alias=\"compensation\", gt=0, repr=False)\n",
        "    department: Department\n",
        "    elected_benefits: bool\n",
        "\n",
        "    @field_validator(\"date_of_birth\")\n",
        "    @classmethod\n",
        "    def check_valid_age(cls, date_of_birth: date) -> date:\n",
        "        today = date.today()\n",
        "        eighteen_years_ago = date(today.year - 18, today.month, today.day)\n",
        "\n",
        "        if date_of_birth > eighteen_years_ago:\n",
        "            raise ValueError(\"Employees must be at least 18 years old.\")\n",
        "\n",
        "        return date_of_birth"
      ]
    },
    {
      "cell_type": "markdown",
      "metadata": {
        "id": "4aH-r0DNVZ7q"
      },
      "source": [
        "## 8.1 Example: Employee Validation with a Custom Validator\n",
        "Let’s see how the model validates data. We’ll try to create an employee who is younger than 18 years old, which should trigger the custom validator."
      ]
    },
    {
      "cell_type": "code",
      "execution_count": null,
      "metadata": {
        "id": "CeEn6lMUPFj1"
      },
      "outputs": [],
      "source": [
        "young_employee_data = {\n",
        "    \"name\": \"John Doe\",\n",
        "    \"email\": \"johndoe@example.com\",\n",
        "    \"birth_date\": date.today() - timedelta(days=365 * 17),\n",
        "    \"compensation\": 90_000,\n",
        "    \"department\": \"SALES\",\n",
        "    \"elected_benefits\": True,\n",
        "}"
      ]
    },
    {
      "cell_type": "code",
      "execution_count": null,
      "metadata": {
        "id": "4NCUQgAoPFj2",
        "outputId": "4bc65300-0575-40a4-e529-8162e3b3c8bc"
      },
      "outputs": [
        {
          "ename": "ValidationError",
          "evalue": "1 validation error for Employee\nbirth_date\n  Value error, Employees must be at least 18 years old. [type=value_error, input_value=datetime.date(2007, 9, 29), input_type=date]\n    For further information visit https://errors.pydantic.dev/2.7/v/value_error",
          "output_type": "error",
          "traceback": [
            "\u001b[0;31m---------------------------------------------------------------------------\u001b[0m",
            "\u001b[0;31mValidationError\u001b[0m                           Traceback (most recent call last)",
            "Cell \u001b[0;32mIn[36], line 1\u001b[0m\n\u001b[0;32m----> 1\u001b[0m \u001b[43mEmployee\u001b[49m\u001b[43m(\u001b[49m\u001b[38;5;241;43m*\u001b[39;49m\u001b[38;5;241;43m*\u001b[39;49m\u001b[43myoung_employee_data\u001b[49m\u001b[43m)\u001b[49m\n",
            "File \u001b[0;32m~/.local/lib/python3.10/site-packages/pydantic/main.py:176\u001b[0m, in \u001b[0;36mBaseModel.__init__\u001b[0;34m(self, **data)\u001b[0m\n\u001b[1;32m    174\u001b[0m \u001b[38;5;66;03m# `__tracebackhide__` tells pytest and some other tools to omit this function from tracebacks\u001b[39;00m\n\u001b[1;32m    175\u001b[0m __tracebackhide__ \u001b[38;5;241m=\u001b[39m \u001b[38;5;28;01mTrue\u001b[39;00m\n\u001b[0;32m--> 176\u001b[0m \u001b[38;5;28;43mself\u001b[39;49m\u001b[38;5;241;43m.\u001b[39;49m\u001b[43m__pydantic_validator__\u001b[49m\u001b[38;5;241;43m.\u001b[39;49m\u001b[43mvalidate_python\u001b[49m\u001b[43m(\u001b[49m\u001b[43mdata\u001b[49m\u001b[43m,\u001b[49m\u001b[43m \u001b[49m\u001b[43mself_instance\u001b[49m\u001b[38;5;241;43m=\u001b[39;49m\u001b[38;5;28;43mself\u001b[39;49m\u001b[43m)\u001b[49m\n",
            "\u001b[0;31mValidationError\u001b[0m: 1 validation error for Employee\nbirth_date\n  Value error, Employees must be at least 18 years old. [type=value_error, input_value=datetime.date(2007, 9, 29), input_type=date]\n    For further information visit https://errors.pydantic.dev/2.7/v/value_error"
          ]
        }
      ],
      "source": [
        "try:\n",
        "    young_employee = Employee(**young_employee_data)\n",
        "except ValueError as e:\n",
        "    print(f\"Validation Error: {e}\")"
      ]
    },
    {
      "cell_type": "code",
      "execution_count": null,
      "metadata": {
        "id": "2bR-OoPwPFj2",
        "outputId": "c60e32c6-be9e-47f7-e2dc-dbeb2088cb19"
      },
      "outputs": [
        {
          "ename": "ValidationError",
          "evalue": "1 validation error for Employee\nbirth_date\n  Value error, Employees must be at least 18 years old. [type=value_error, input_value=datetime.date(2007, 9, 29), input_type=date]\n    For further information visit https://errors.pydantic.dev/2.7/v/value_error",
          "output_type": "error",
          "traceback": [
            "\u001b[0;31m---------------------------------------------------------------------------\u001b[0m",
            "\u001b[0;31mValidationError\u001b[0m                           Traceback (most recent call last)",
            "Cell \u001b[0;32mIn[35], line 1\u001b[0m\n\u001b[0;32m----> 1\u001b[0m \u001b[43mEmployee\u001b[49m\u001b[38;5;241;43m.\u001b[39;49m\u001b[43mmodel_validate\u001b[49m\u001b[43m(\u001b[49m\u001b[43myoung_employee_data\u001b[49m\u001b[43m)\u001b[49m\n",
            "File \u001b[0;32m~/.local/lib/python3.10/site-packages/pydantic/main.py:551\u001b[0m, in \u001b[0;36mBaseModel.model_validate\u001b[0;34m(cls, obj, strict, from_attributes, context)\u001b[0m\n\u001b[1;32m    549\u001b[0m \u001b[38;5;66;03m# `__tracebackhide__` tells pytest and some other tools to omit this function from tracebacks\u001b[39;00m\n\u001b[1;32m    550\u001b[0m __tracebackhide__ \u001b[38;5;241m=\u001b[39m \u001b[38;5;28;01mTrue\u001b[39;00m\n\u001b[0;32m--> 551\u001b[0m \u001b[38;5;28;01mreturn\u001b[39;00m \u001b[38;5;28;43mcls\u001b[39;49m\u001b[38;5;241;43m.\u001b[39;49m\u001b[43m__pydantic_validator__\u001b[49m\u001b[38;5;241;43m.\u001b[39;49m\u001b[43mvalidate_python\u001b[49m\u001b[43m(\u001b[49m\n\u001b[1;32m    552\u001b[0m \u001b[43m    \u001b[49m\u001b[43mobj\u001b[49m\u001b[43m,\u001b[49m\u001b[43m \u001b[49m\u001b[43mstrict\u001b[49m\u001b[38;5;241;43m=\u001b[39;49m\u001b[43mstrict\u001b[49m\u001b[43m,\u001b[49m\u001b[43m \u001b[49m\u001b[43mfrom_attributes\u001b[49m\u001b[38;5;241;43m=\u001b[39;49m\u001b[43mfrom_attributes\u001b[49m\u001b[43m,\u001b[49m\u001b[43m \u001b[49m\u001b[43mcontext\u001b[49m\u001b[38;5;241;43m=\u001b[39;49m\u001b[43mcontext\u001b[49m\n\u001b[1;32m    553\u001b[0m \u001b[43m\u001b[49m\u001b[43m)\u001b[49m\n",
            "\u001b[0;31mValidationError\u001b[0m: 1 validation error for Employee\nbirth_date\n  Value error, Employees must be at least 18 years old. [type=value_error, input_value=datetime.date(2007, 9, 29), input_type=date]\n    For further information visit https://errors.pydantic.dev/2.7/v/value_error"
          ]
        }
      ],
      "source": [
        "Employee.model_validate(young_employee_data)"
      ]
    },
    {
      "cell_type": "markdown",
      "metadata": {
        "id": "8lG02TbkViFp"
      },
      "source": [
        "## 8.2 Successful Employee Creation\n",
        "Now, let’s create a valid employee who is over 18 years old.\n",
        "\n"
      ]
    },
    {
      "cell_type": "code",
      "execution_count": null,
      "metadata": {
        "id": "cupqAZcTPFj2"
      },
      "outputs": [],
      "source": [
        "valid_employee_data = {\n",
        "    \"name\": \"Jane Doe\",\n",
        "    \"email\": \"janedoe@example.com\",\n",
        "    \"birth_date\": date.today() - timedelta(days=365 * 25),  # 25 years old\n",
        "    \"compensation\": 100_000,\n",
        "    \"department\": \"HR\",\n",
        "    \"elected_benefits\": False,\n",
        "}\n",
        "\n",
        "# Creating a valid Employee instance\n",
        "valid_employee = Employee(**valid_employee_data)\n",
        "print(valid_employee)"
      ]
    },
    {
      "cell_type": "markdown",
      "metadata": {
        "id": "n0R4KZm4Vr7G"
      },
      "source": [
        "# 9. Further Learning\n",
        "To further explore Pydantic:\n",
        "\n",
        "Look into custom data validation using @validator decorators.\n",
        "Explore Pydantic's integration with FastAPI for building APIs with automatic data validation.\n"
      ]
    },
    {
      "cell_type": "code",
      "execution_count": null,
      "metadata": {
        "id": "YsjMbfCZVtnF"
      },
      "outputs": [],
      "source": []
    }
  ],
  "metadata": {
    "colab": {
      "provenance": []
    },
    "kernelspec": {
      "display_name": "Python 3",
      "language": "python",
      "name": "python3"
    },
    "language_info": {
      "codemirror_mode": {
        "name": "ipython",
        "version": 3
      },
      "file_extension": ".py",
      "mimetype": "text/x-python",
      "name": "python",
      "nbconvert_exporter": "python",
      "pygments_lexer": "ipython3",
      "version": "3.10.12"
    }
  },
  "nbformat": 4,
  "nbformat_minor": 0
}
