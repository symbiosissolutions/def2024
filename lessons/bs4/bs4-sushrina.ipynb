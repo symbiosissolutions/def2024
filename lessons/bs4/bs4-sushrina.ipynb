{
  "nbformat": 4,
  "nbformat_minor": 0,
  "metadata": {
    "colab": {
      "provenance": []
    },
    "kernelspec": {
      "name": "python3",
      "display_name": "Python 3"
    },
    "language_info": {
      "name": "python"
    }
  },
  "cells": [
    {
      "cell_type": "markdown",
      "source": [
        "**Author**: Sushrina Dhakal <br>\n",
        "**Date**: 18<sup>th</sup> September, 2024 <br>\n",
        "**Symbiosis Solutions**\n",
        "<br>\n",
        "# Web Scraping with Python: A Comprehensive Guide"
      ],
      "metadata": {
        "id": "02TlgDD04ZlQ"
      }
    },
    {
      "cell_type": "markdown",
      "source": [
        "## 1. Introduction to Web Scraping"
      ],
      "metadata": {
        "id": "n9HUlFiQ4b-c"
      }
    },
    {
      "cell_type": "markdown",
      "source": [
        "Web scraping is a technique used to extract data from websites. In this guide, we’ll use Python libraries such as requests and BeautifulSoup to fetch and parse web content."
      ],
      "metadata": {
        "id": "Jqthet9G4fc9"
      }
    },
    {
      "cell_type": "markdown",
      "source": [
        "### Why Use Web Scraping?"
      ],
      "metadata": {
        "id": "EC9eA0LJ4h2W"
      }
    },
    {
      "cell_type": "markdown",
      "source": [
        "* To collect large datasets from websites\n",
        "* To automate data extraction\n",
        "* To analyze website information for research or business intelligence"
      ],
      "metadata": {
        "id": "pa-oDrBp4khC"
      }
    },
    {
      "cell_type": "markdown",
      "source": [
        "## 2. Required Libraries"
      ],
      "metadata": {
        "id": "qbQxWZCe4oux"
      }
    },
    {
      "cell_type": "markdown",
      "source": [
        "To start, you’ll need to install the following Python libraries:\n",
        "\n",
        "* <strong> requests </strong>: Used to send HTTP requests to fetch web content.\n",
        "* <strong> BeautifulSoup </strong>: Parses and extracts data from HTML or XML files."
      ],
      "metadata": {
        "id": "lf4_oR794sQO"
      }
    },
    {
      "cell_type": "code",
      "source": [
        "!pip install requests beautifulsoup4 --quiet"
      ],
      "metadata": {
        "id": "68c8w89o4aMX"
      },
      "execution_count": 23,
      "outputs": []
    },
    {
      "cell_type": "markdown",
      "source": [
        "## 3. Fetching Web Content Using requests <br>\n",
        "We use the requests library to fetch the HTML content of a webpage."
      ],
      "metadata": {
        "id": "Hf7oMrwF43Hc"
      }
    },
    {
      "cell_type": "code",
      "source": [
        "import requests\n",
        "\n",
        "url = \"https://edusanjal.com/college/british-college/\"\n",
        "\n",
        "response = requests.get(url)\n",
        "\n",
        "print(\"Response Status:\", response.status_code)"
      ],
      "metadata": {
        "colab": {
          "base_uri": "https://localhost:8080/"
        },
        "id": "jm-2cGiS40Qy",
        "outputId": "837620cc-85fc-4cbf-f259-31a53cc97707"
      },
      "execution_count": 24,
      "outputs": [
        {
          "output_type": "stream",
          "name": "stdout",
          "text": [
            "Response Status: 200\n"
          ]
        }
      ]
    },
    {
      "cell_type": "markdown",
      "source": [
        "* requests.get(url) fetches the web page content.\n",
        "* response.status_code checks if the request was successful (200 indicates success)."
      ],
      "metadata": {
        "id": "VRFJTJ5t5CLk"
      }
    },
    {
      "cell_type": "markdown",
      "source": [
        "## 4. Parsing HTML Content with BeautifulSoup <br>\n",
        "Once the content is fetched, we can parse it using BeautifulSoup."
      ],
      "metadata": {
        "id": "YZeY2_mO5F42"
      }
    },
    {
      "cell_type": "code",
      "source": [
        "from bs4 import BeautifulSoup\n",
        "\n",
        "html_content = BeautifulSoup(response.content, \"html.parser\")\n",
        "\n",
        "# (optional, for checking structure)\n",
        "# print(html_content.prettify())"
      ],
      "metadata": {
        "id": "3lFOkzao4-ye"
      },
      "execution_count": 25,
      "outputs": []
    },
    {
      "cell_type": "markdown",
      "source": [
        "* We use html.parser to parse the content. You can also use lxml or html5lib if needed.\n",
        "* prettify() formats the HTML in a readable way.\n"
      ],
      "metadata": {
        "id": "IuOOCNbk5RXV"
      }
    },
    {
      "cell_type": "markdown",
      "source": [
        "## 5. Extracting Specific Data from HTML <br>\n",
        "### 5.1 Finding a Specific Tag <br>\n",
        "Suppose we want to extract the salient features of the college, which are inside a <div> tag with id='salient_features'.\n",
        "<br>\n",
        "**You can use Inspect in the website to find the tags you want to get the data from**"
      ],
      "metadata": {
        "id": "AVnmPl5M5Wkj"
      }
    },
    {
      "cell_type": "markdown",
      "source": [
        "* find() returns the first matching tag. In this case, it finds the <div> with a specific id."
      ],
      "metadata": {
        "id": "EzAJ_MxU5tot"
      }
    },
    {
      "cell_type": "code",
      "source": [
        "divs = html_content.find('div', id='salient_features')\n",
        "\n",
        "print(divs.text.strip())"
      ],
      "metadata": {
        "colab": {
          "base_uri": "https://localhost:8080/"
        },
        "id": "iXjhLvWP5PTO",
        "outputId": "e192c3d2-abfe-44c4-f3b1-b9ce25f386ab"
      },
      "execution_count": 26,
      "outputs": [
        {
          "output_type": "stream",
          "name": "stdout",
          "text": [
            "Salient FeaturesFeatures of The British College\n",
            "The British college encourages its students to challenge ideas where students get exposed into stirring environment of wide perspectives to help them think differently, have reasoning sensibility and learn in an effective manner. The students in this manner get toned with a extended version in the best possible skills in extracurricular activities as well,\n",
            "TBC aims to inspire and guide its students through outstanding learning experience, as well as through partnership with national and international universities and organizations in presence of exceptional student facilities that ensures a wide range of opportunities, both academically and professionally.\n",
            "\n",
            "Get value for money with a quality UK Degree at a local cost.\n",
            "Gain the same prestigious UK degree at one-fifth of the price.\n",
            " Our overall quality (student experience, academic standards, and programme delivery) is underpinned by adherence to the UK Quality Assurance Agency’s Quality Code.\n",
            "The student will earn a direct university degree rather than a degree awarded through a third party.\n",
            "To ensure that students get the education they deserve we have staff with international academic qualifications from the UK, USA, Australia, and India. The college is dedicated to providing students with a complete international learning experience.\n",
            "Linked with various academic institutions, TBC students have access to regular guest lecturers and speakers from the UK and other countries as well as from reputed corporate houses and public institutions in Nepal.\n",
            "Scholarships are provided for deserving students.\n",
            "\n",
            "Why Study at The British College?\n",
            "\n",
            "Partner Universities : TBC offers Undergraduate Programme and Postgraduate Programme which is awarded by University of the West of England (UWE) and Leeds Beckett University (LBU).\n",
            "Extracurricular Activities (ECA) : The college believes development through extracurricular activities and encourages its students to take such opportunities in building their personal and interpersonal skills such as development of health and happiness, physical skills, emotional maturity, social competence, moral values, and teamwork.\n",
            "ACCA Exam Centre: It has established itself as a center for the ACCA exam centre and  ACCA Exam Centre Information.\n",
            "Computer Forensics Lab: It provides a wide range of computing resources and support services with approximately 100 computer available and leased line with high-speed bandwidth. The lab is also equipped with HD Multimedia facilities.\n",
            "IT Facilities: IT Services offer a wide range of services and facilities relating to Computing.\n",
            "Business Services and Graduate Careers: The British College aims to potentially open doors for joint ventures or business partnerships.\n",
            "International Mobility Programme (IMP): The programme is designed to help students enhance their skills and capabilities through international trips. IMP aims to offer students an opportunity to gain experience-based learning via visits to schools and industries, corporations and cultural arenas. IMP includes programmes such as:\n",
            "\n",
            "\n",
            "1 Week Trip to Dubai\n",
            "12 Weeks Comprehensive Study Abroad Programme in Dubai\n",
            "Executive Training in London\n",
            "2 Weeks English Programme In London\n",
            "Summer School in London \n",
            "\n",
            "\n",
            "College Library: The College Library is fully equipped with paper and digital resources that cannot be found anywhere in the local market accessing its students to all related universities' library materials.\n",
            "\n",
            "The British College (TBC) Participation\n",
            "\n",
            "Two students from The MSc IT programme, Siya Shrestha and Priyanka Neupane participated in The 2020 International Conference on Future Generation Computing & Technology Innovations – Liverpool, UK, 1st-3rd July 2020 (FGCom'2020) and presented two research papers.\n",
            "ACCA Students Rukminee Ghimire and Liza KC successfully passed Remotely Proctored ACCA Examination Held in July 2020. Remotely Proctored Examination for ACCA is one of its kind in Nepal and the World.\n"
          ]
        }
      ]
    },
    {
      "cell_type": "markdown",
      "source": [
        "### 5.2 Extracting Headers (H2 Tags)\n",
        "To extract all <h2> tags from the HTML content, we can use the find_all() method: <br>\n",
        "* find_all() returns a list of all matching tags. We loop through them to print their contents."
      ],
      "metadata": {
        "id": "l1cD9_jo5wud"
      }
    },
    {
      "cell_type": "code",
      "source": [
        "h2_tags = html_content.find_all('h2')\n",
        "\n",
        "for tag in h2_tags:\n",
        "    print(tag.text.strip())"
      ],
      "metadata": {
        "colab": {
          "base_uri": "https://localhost:8080/"
        },
        "id": "KrOQLcZ25e0O",
        "outputId": "935a117b-6113-4506-86fb-f3c0bcd21afc"
      },
      "execution_count": 27,
      "outputs": [
        {
          "output_type": "stream",
          "name": "stdout",
          "text": [
            "OFFERED PROGRAMS\n",
            "Salient Features\n",
            "Features of The British College\n",
            "Admission Guidelines\n",
            "Applying to The British College (TBC)\n",
            "Postgraduate Programmes\n",
            "Undergraduate Programmes:\n",
            "Cambridge GCE A Level\n",
            "ACCA\n",
            "SCHOLARSHIP INFORMATION\n",
            "More Information\n",
            "News\n",
            "Posts\n",
            "Recognitions\n",
            "Documents\n",
            "Get Directions\n",
            "NETWORK INSTITUTIONS\n",
            "Gallery\n",
            "ABOUT US\n",
            "Message from the Executive Principal\n",
            "Videos\n",
            "INFORMATION\n",
            "CLIENT PORTAL\n",
            "LINKS\n",
            "Contact\n"
          ]
        }
      ]
    },
    {
      "cell_type": "markdown",
      "source": [
        "## 6. Creating Functions for Reusability <br>\n",
        "### 6.1 Function to Fetch HTML Content <br>\n",
        "It’s a good practice to define functions for repeated tasks. Let’s create a function to fetch and parse HTML content."
      ],
      "metadata": {
        "id": "vD8zPbGm597r"
      }
    },
    {
      "cell_type": "code",
      "source": [
        "def fetch_html(url):\n",
        "    \"\"\"\n",
        "    Fetches the HTML content of a given URL.\n",
        "\n",
        "    Parameters:\n",
        "    url (str): The URL of the webpage to scrape.\n",
        "\n",
        "    Returns:\n",
        "    BeautifulSoup: Parsed HTML content of the webpage.\n",
        "    \"\"\"\n",
        "    response = requests.get(url)\n",
        "    if response.status_code == 200:\n",
        "        return BeautifulSoup(response.content, \"html.parser\")\n",
        "    else:\n",
        "        print(f\"Failed to retrieve content. Status code: {response.status_code}\")\n",
        "        return None"
      ],
      "metadata": {
        "id": "fUYRztPU56Mr"
      },
      "execution_count": 28,
      "outputs": []
    },
    {
      "cell_type": "markdown",
      "source": [
        "* This function accepts a URL and returns the parsed HTML content or an error message if the request fails."
      ],
      "metadata": {
        "id": "ZFFMYYp46GxB"
      }
    },
    {
      "cell_type": "markdown",
      "source": [
        "### 6.2 Function to Extract Specific div Content"
      ],
      "metadata": {
        "id": "ve3sTqRL6JbL"
      }
    },
    {
      "cell_type": "code",
      "source": [
        "def extract_div_content(html_content, div_id):\n",
        "    \"\"\"\n",
        "    Extracts the text content from a specified div.\n",
        "\n",
        "    Parameters:\n",
        "    html_content (BeautifulSoup): Parsed HTML content.\n",
        "    div_id (str): The id of the div to extract content from.\n",
        "\n",
        "    Returns:\n",
        "    str: The text content of the div.\n",
        "    \"\"\"\n",
        "    div = html_content.find('div', id=div_id)\n",
        "    return div.text.strip() if div else \"Div not found\"\n"
      ],
      "metadata": {
        "id": "ZxtrNXFf6E5u"
      },
      "execution_count": 29,
      "outputs": []
    },
    {
      "cell_type": "markdown",
      "source": [
        "### 6.3 Function to Extract h2 Tags\n"
      ],
      "metadata": {
        "id": "7Yw-xtt06Pok"
      }
    },
    {
      "cell_type": "code",
      "source": [
        "def extract_h2_tags(html_content):\n",
        "    \"\"\"\n",
        "    Extracts and prints all h2 tag contents from the HTML.\n",
        "\n",
        "    Parameters:\n",
        "    html_content (BeautifulSoup): Parsed HTML content.\n",
        "\n",
        "    Returns:\n",
        "    List of strings containing the text of all h2 tags.\n",
        "    \"\"\"\n",
        "    h2_tags = html_content.find_all('h2')\n",
        "    return [tag.text.strip() for tag in h2_tags]"
      ],
      "metadata": {
        "id": "rOpIbWkW6MwU"
      },
      "execution_count": 30,
      "outputs": []
    },
    {
      "cell_type": "markdown",
      "source": [
        "## 7. Combining Everything <br>\n",
        "Now, let’s combine all the functions to scrape the webpage and extract both the salient features and headers."
      ],
      "metadata": {
        "id": "YgROPrbK6UQ-"
      }
    },
    {
      "cell_type": "code",
      "source": [
        "url = \"https://edusanjal.com/college/british-college/\"\n",
        "\n",
        "html_content = fetch_html(url)\n",
        "\n",
        "if html_content:\n",
        "    salient_features = extract_div_content(html_content, 'salient_features')\n",
        "    print(\"Salient Features:\")\n",
        "    print(salient_features)\n",
        "\n",
        "    h2_texts = extract_h2_tags(html_content)\n",
        "    print(\"\\nH2 Tags:\")\n",
        "    for text in h2_texts:\n",
        "        print(text)\n"
      ],
      "metadata": {
        "colab": {
          "base_uri": "https://localhost:8080/"
        },
        "id": "r0DZKsOu6R_h",
        "outputId": "3c67a12f-1082-4702-b4bf-a7376adf0cf1"
      },
      "execution_count": 31,
      "outputs": [
        {
          "output_type": "stream",
          "name": "stdout",
          "text": [
            "Salient Features:\n",
            "Salient FeaturesFeatures of The British College\n",
            "The British college encourages its students to challenge ideas where students get exposed into stirring environment of wide perspectives to help them think differently, have reasoning sensibility and learn in an effective manner. The students in this manner get toned with a extended version in the best possible skills in extracurricular activities as well,\n",
            "TBC aims to inspire and guide its students through outstanding learning experience, as well as through partnership with national and international universities and organizations in presence of exceptional student facilities that ensures a wide range of opportunities, both academically and professionally.\n",
            "\n",
            "Get value for money with a quality UK Degree at a local cost.\n",
            "Gain the same prestigious UK degree at one-fifth of the price.\n",
            " Our overall quality (student experience, academic standards, and programme delivery) is underpinned by adherence to the UK Quality Assurance Agency’s Quality Code.\n",
            "The student will earn a direct university degree rather than a degree awarded through a third party.\n",
            "To ensure that students get the education they deserve we have staff with international academic qualifications from the UK, USA, Australia, and India. The college is dedicated to providing students with a complete international learning experience.\n",
            "Linked with various academic institutions, TBC students have access to regular guest lecturers and speakers from the UK and other countries as well as from reputed corporate houses and public institutions in Nepal.\n",
            "Scholarships are provided for deserving students.\n",
            "\n",
            "Why Study at The British College?\n",
            "\n",
            "Partner Universities : TBC offers Undergraduate Programme and Postgraduate Programme which is awarded by University of the West of England (UWE) and Leeds Beckett University (LBU).\n",
            "Extracurricular Activities (ECA) : The college believes development through extracurricular activities and encourages its students to take such opportunities in building their personal and interpersonal skills such as development of health and happiness, physical skills, emotional maturity, social competence, moral values, and teamwork.\n",
            "ACCA Exam Centre: It has established itself as a center for the ACCA exam centre and  ACCA Exam Centre Information.\n",
            "Computer Forensics Lab: It provides a wide range of computing resources and support services with approximately 100 computer available and leased line with high-speed bandwidth. The lab is also equipped with HD Multimedia facilities.\n",
            "IT Facilities: IT Services offer a wide range of services and facilities relating to Computing.\n",
            "Business Services and Graduate Careers: The British College aims to potentially open doors for joint ventures or business partnerships.\n",
            "International Mobility Programme (IMP): The programme is designed to help students enhance their skills and capabilities through international trips. IMP aims to offer students an opportunity to gain experience-based learning via visits to schools and industries, corporations and cultural arenas. IMP includes programmes such as:\n",
            "\n",
            "\n",
            "1 Week Trip to Dubai\n",
            "12 Weeks Comprehensive Study Abroad Programme in Dubai\n",
            "Executive Training in London\n",
            "2 Weeks English Programme In London\n",
            "Summer School in London \n",
            "\n",
            "\n",
            "College Library: The College Library is fully equipped with paper and digital resources that cannot be found anywhere in the local market accessing its students to all related universities' library materials.\n",
            "\n",
            "The British College (TBC) Participation\n",
            "\n",
            "Two students from The MSc IT programme, Siya Shrestha and Priyanka Neupane participated in The 2020 International Conference on Future Generation Computing & Technology Innovations – Liverpool, UK, 1st-3rd July 2020 (FGCom'2020) and presented two research papers.\n",
            "ACCA Students Rukminee Ghimire and Liza KC successfully passed Remotely Proctored ACCA Examination Held in July 2020. Remotely Proctored Examination for ACCA is one of its kind in Nepal and the World.\n",
            "\n",
            "H2 Tags:\n",
            "OFFERED PROGRAMS\n",
            "Salient Features\n",
            "Features of The British College\n",
            "Admission Guidelines\n",
            "Applying to The British College (TBC)\n",
            "Postgraduate Programmes\n",
            "Undergraduate Programmes:\n",
            "Cambridge GCE A Level\n",
            "ACCA\n",
            "SCHOLARSHIP INFORMATION\n",
            "More Information\n",
            "News\n",
            "Posts\n",
            "Recognitions\n",
            "Documents\n",
            "Get Directions\n",
            "NETWORK INSTITUTIONS\n",
            "Gallery\n",
            "ABOUT US\n",
            "Message from the Executive Principal\n",
            "Videos\n",
            "INFORMATION\n",
            "CLIENT PORTAL\n",
            "LINKS\n",
            "Contact\n"
          ]
        }
      ]
    },
    {
      "cell_type": "markdown",
      "source": [
        "## Further Learning <br>\n",
        "Visit this link of BeautifulSoup Documentation: <br>\n",
        "<a href=\"https://www.crummy.com/software/BeautifulSoup/bs4/doc/\"> Click This Link </a>"
      ],
      "metadata": {
        "id": "PNZjewWl6e66"
      }
    },
    {
      "cell_type": "code",
      "source": [],
      "metadata": {
        "id": "MoVdCrgR6bbN"
      },
      "execution_count": null,
      "outputs": []
    }
  ]
}